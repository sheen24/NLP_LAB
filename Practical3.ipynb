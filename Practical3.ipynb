{
 "cells": [
  {
   "cell_type": "markdown",
   "id": "a387dfee",
   "metadata": {},
   "source": [
    "# Practical 3\n",
    "i) Find most frequent 5 words from a piece of text.  \n",
    "ii) Print  all instances of 'the' from Brown Corpus.  \n",
    "iii) Print all bigrams and trigrams from a text. Find most frequent 10.\n"
   ]
  },
  {
   "cell_type": "code",
   "execution_count": 9,
   "id": "387e63fd",
   "metadata": {},
   "outputs": [
    {
     "name": "stderr",
     "output_type": "stream",
     "text": [
      "[nltk_data] Downloading package brown to\n",
      "[nltk_data]     C:\\Users\\sheen\\AppData\\Roaming\\nltk_data...\n",
      "[nltk_data]   Package brown is already up-to-date!\n"
     ]
    },
    {
     "name": "stdout",
     "output_type": "stream",
     "text": [
      "Top 5 words in Brown corpus:\n",
      "the: 69971\n",
      "of: 36412\n",
      "and: 28853\n",
      "to: 26158\n",
      "a: 23195\n"
     ]
    },
    {
     "data": {
      "image/png": "[encoded data removed]",
      "text/plain": [
       "<Figure size 800x500 with 1 Axes>"
      ]
     },
     "metadata": {},
     "output_type": "display_data"
    }
   ],
   "source": [
    "import nltk\n",
    "from nltk.corpus import brown\n",
    "from nltk import FreqDist\n",
    "import matplotlib.pyplot as plt\n",
    "\n",
    "# Download corpus if not already available\n",
    "nltk.download('brown')\n",
    "\n",
    "def plot_top_brown_words(top_n=5):\n",
    "    # Extract words from the Brown corpus\n",
    "    brown_words = [w.lower() for w in brown.words() if w.isalpha()]\n",
    "\n",
    "    # Frequency distribution\n",
    "    freq_dist = FreqDist(brown_words)\n",
    "\n",
    "    # Get top N most frequent words\n",
    "    most_common = freq_dist.most_common(top_n)\n",
    "    words, frequencies = zip(*most_common)\n",
    "\n",
    "    # Print top words\n",
    "    print(\"Top\", top_n, \"words in Brown corpus:\")\n",
    "    for word, freq in most_common:\n",
    "        print(f\"{word}: {freq}\")\n",
    "\n",
    "    # Plot bar chart\n",
    "    plt.figure(figsize=(8, 5))\n",
    "    plt.bar(words, frequencies, color='skyblue')\n",
    "    plt.title(f\"Top {top_n} Most Frequent Words in Brown Corpus\")\n",
    "    plt.xlabel(\"Words\")\n",
    "    plt.ylabel(\"Frequency\")\n",
    "    plt.tight_layout()\n",
    "    plt.show()\n",
    "\n",
    "# Run the function\n",
    "plot_top_brown_words()\n"
   ]
  },
  {
   "cell_type": "code",
   "execution_count": 10,
   "id": "93012c82",
   "metadata": {},
   "outputs": [
    {
     "name": "stdout",
     "output_type": "stream",
     "text": [
      "Total instances of 'the': 69971\n"
     ]
    }
   ],
   "source": [
    "import nltk\n",
    "from nltk.corpus import brown\n",
    "\n",
    "\n",
    "# Extract all words from Brown Corpus (case-insensitive match)\n",
    "brown_words = brown.words()\n",
    "the_instances = [word for word in brown_words if word.lower() == 'the']\n",
    "\n",
    "# Print the total count and first few examples\n",
    "print(f\"Total instances of 'the': {len(the_instances)}\")\n",
    "\n"
   ]
  },
  {
   "cell_type": "code",
   "execution_count": 11,
   "id": "68485344",
   "metadata": {},
   "outputs": [
    {
     "name": "stdout",
     "output_type": "stream",
     "text": [
      "Top 10 Bigrams in Brown Corpus:\n",
      "('of', 'the'): 9774\n",
      "('in', 'the'): 6156\n",
      "('to', 'the'): 3525\n",
      "('on', 'the'): 2491\n",
      "('and', 'the'): 2307\n",
      "('for', 'the'): 1862\n",
      "('to', 'be'): 1718\n",
      "('at', 'the'): 1677\n",
      "('with', 'the'): 1545\n",
      "('of', 'a'): 1502\n",
      "\n",
      "Top 10 Trigrams in Brown Corpus:\n",
      "('one', 'of', 'the'): 404\n",
      "('the', 'united', 'states'): 337\n",
      "('as', 'well', 'as'): 238\n",
      "('some', 'of', 'the'): 179\n",
      "('out', 'of', 'the'): 174\n",
      "('the', 'fact', 'that'): 167\n",
      "('the', 'end', 'of'): 149\n",
      "('part', 'of', 'the'): 146\n",
      "('it', 'was', 'a'): 144\n",
      "('there', 'was', 'a'): 142\n"
     ]
    }
   ],
   "source": [
    "import nltk\n",
    "from nltk.corpus import brown\n",
    "from nltk.util import ngrams\n",
    "from nltk import FreqDist\n",
    "\n",
    "\n",
    "\n",
    "def most_frequent_ngrams_corpus(corpus_words, n=2, top_n=10):\n",
    "    # Generate ngrams\n",
    "    n_grams = list(ngrams(corpus_words, n))\n",
    "    freq_dist = FreqDist(n_grams)\n",
    "    return freq_dist.most_common(top_n)\n",
    "\n",
    "# Get words from Brown corpus, lowercase and only alphabetic tokens\n",
    "brown_words = [w.lower() for w in brown.words() if w.isalpha()]\n",
    "\n",
    "# Get top 10 bigrams\n",
    "top_bigrams = most_frequent_ngrams_corpus(brown_words, n=2, top_n=10)\n",
    "\n",
    "# Get top 10 trigrams\n",
    "top_trigrams = most_frequent_ngrams_corpus(brown_words, n=3, top_n=10)\n",
    "\n",
    "# Print results\n",
    "print(\"Top 10 Bigrams in Brown Corpus:\")\n",
    "for bigram, freq in top_bigrams:\n",
    "    print(f\"{bigram}: {freq}\")\n",
    "\n",
    "print(\"\\nTop 10 Trigrams in Brown Corpus:\")\n",
    "for trigram, freq in top_trigrams:\n",
    "    print(f\"{trigram}: {freq}\")\n"
   ]
  }
 ],
 "metadata": {
  "kernelspec": {
   "display_name": "Python 3",
   "language": "python",
   "name": "python3"
  },
  "language_info": {
   "codemirror_mode": {
    "name": "ipython",
    "version": 3
   },
   "file_extension": ".py",
   "mimetype": "text/x-python",
   "name": "python",
   "nbconvert_exporter": "python",
   "pygments_lexer": "ipython3",
   "version": "3.10.11"
  }
 },
 "nbformat": 4,
 "nbformat_minor": 5
}
